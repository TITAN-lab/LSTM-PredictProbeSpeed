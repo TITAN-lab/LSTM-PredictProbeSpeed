{
 "cells": [
  {
   "cell_type": "code",
   "execution_count": null,
   "metadata": {},
   "outputs": [],
   "source": [
    "import json, os\n",
    "from matplotlib import pyplot as plt\n",
    "import pandas as pd\n",
    "import numpy as np"
   ]
  },
  {
   "cell_type": "code",
   "execution_count": null,
   "metadata": {},
   "outputs": [],
   "source": [
    "dir_path = 'results/all/'\n",
    "histFiles = os.listdir(dir_path)\n",
    "# batch_size = str(500); epoch = str(150)\n",
    "# neurons=[10,50,100,200];epochs=[150];dropouts=[0.02,0.2,0.4];batch_sizes=[500]\n",
    "neurons=[200, 100, 10,50];epochs=[100, 30, 50];dropouts=[0.2];batch_sizes=[1000, 500, 200]\n",
    "training_data_folder = 'datasets/training_datasets/'\n",
    "all_csv_files = os.listdir(training_data_folder)\n",
    "cols =['mean', 'std', 'min', '25%', '50%', '75%', 'max'] \n",
    "output_pms =pd.DataFrame(columns=cols)\n",
    "for cur_tdata_file in all_csv_files:\n",
    "    filename = cur_tdata_file.split('.csv')[0]\n",
    "    for batch_size in batch_sizes:\n",
    "        error_list = [];\n",
    "        for neuron in neurons:\n",
    "            for dropout in dropouts:\n",
    "                for epoch in epochs:\n",
    "                    fname = dir_path + '_' + filename + '_'+'history_' + str(batch_size) + str(neuron) +str(dropout) +str(epoch) +'.json'\n",
    "                    if os.path.isfile(fname):\n",
    "                        print (fname)\n",
    "                        json_file = open(fname, 'r')\n",
    "                        loaded_model_json = json.load(json_file)\n",
    "                        json_file.close()\n",
    "                        output = loaded_model_json['val_mean_absolute_error']\n",
    "                        output_main = loaded_model_json['mean_absolute_error']\n",
    "                        error = abs(sum(list(set(output_main)-set(output)))/len(output))\n",
    "                        error_list.append(error)\n",
    "                        if len(error_list)>0:\n",
    "                                error_list_pms = [np.mean(error_list), np.std(error_list),\n",
    "                                                  np.min(error_list),np.percentile(error_list,25),\n",
    "                                                  np.percentile(error_list, 50),np.percentile(error_list, 75),\n",
    "                                                 np.max(error_list)] \n",
    "                                \n",
    "                        plt.plot(output, label=str(neuron))\n",
    "                        plt.plot(output_main, 'k')\n",
    "                        plt.legend()\n",
    "        output_pms.loc[len(output_pms)] = error_list_pms\n",
    "        plt.show()\n",
    "        plt.savefig('results/' + filename + '.png')\n",
    "output_pms.to_csv('results/boxplot.csv')\n",
    "#         output_pms =pd.DataFrame(columns=cols)\n",
    "#         plt.show()\n",
    "        \n",
    "        "
   ]
  }
 ],
 "metadata": {
  "kernelspec": {
   "display_name": "Python 3",
   "language": "python",
   "name": "python3"
  },
  "language_info": {
   "codemirror_mode": {
    "name": "ipython",
    "version": 3
   },
   "file_extension": ".py",
   "mimetype": "text/x-python",
   "name": "python",
   "nbconvert_exporter": "python",
   "pygments_lexer": "ipython3",
   "version": "3.6.4"
  }
 },
 "nbformat": 4,
 "nbformat_minor": 2
}
